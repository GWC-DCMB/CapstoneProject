{
 "cells": [
  {
   "cell_type": "code",
   "execution_count": null,
   "metadata": {},
   "outputs": [],
   "source": [
    "import pandas\n",
    "import plotly.offline as offline\n",
    "import plotly.figure_factory as ff\n",
    "import matplotlib.pyplot as plt\n",
    "%matplotlib inline\n",
    "import seaborn as sns"
   ]
  },
  {
   "cell_type": "code",
   "execution_count": null,
   "metadata": {},
   "outputs": [],
   "source": [
    "\"\"\"Read data\n",
    "Info about data: https://www.kaggle.com/IHME/us-countylevel-mortality\n",
    "Mortality = deaths per 100,000 people, combined for both sexes, age standardized\"\"\"\n",
    "d = pandas.read_csv(\"mort.csv.gz\")\n",
    "\"\"\"Display header\"\"\"\n",
    "d.head()"
   ]
  },
  {
   "cell_type": "code",
   "execution_count": null,
   "metadata": {},
   "outputs": [],
   "source": [
    "\"\"\"Print column names\"\"\"\n",
    "d.columns"
   ]
  },
  {
   "cell_type": "code",
   "execution_count": null,
   "metadata": {},
   "outputs": [],
   "source": [
    "\"\"\"How many rows and columns do we have?\"\"\"\n",
    "d.shape"
   ]
  },
  {
   "cell_type": "code",
   "execution_count": null,
   "metadata": {},
   "outputs": [],
   "source": [
    "\"\"\"Retain only useful columns and display header\"\"\"\n",
    "d1 = d[['Location', 'FIPS', 'Category', 'Mortality Rate, 1980*', 'Mortality Rate, 2014*', '% Change in Mortality Rate, 1980-2014']]\n",
    "d1.head()"
   ]
  },
  {
   "cell_type": "code",
   "execution_count": null,
   "metadata": {},
   "outputs": [],
   "source": [
    "\"\"\"Question: Which disease causes the highest mortality rates in the USA for 2014?\"\"\"\n",
    "\"\"\"Make dataframe to only contain mortality values for the whole USA, for all disease categories\"\"\"\n",
    "dus = d1[d1['Location']==\"United States\"]"
   ]
  },
  {
   "cell_type": "code",
   "execution_count": null,
   "metadata": {},
   "outputs": [],
   "source": [
    "\"\"\"Sort datafame by mortality rate and plot a horizontal bar plot\"\"\"\n",
    "dus.sort_values(by=['Mortality Rate, 2014*']).plot(x='Category', \n",
    "                                                   y='Mortality Rate, 2014*', \n",
    "                                                   kind='barh', \n",
    "                                                   title=\"Mortality rate in 2014\", \n",
    "                                                   legend=False, \n",
    "                                                   figsize=(10,4))\n",
    "plt.tight_layout()\n",
    "plt.savefig(\"mortality2014.pdf\")"
   ]
  },
  {
   "cell_type": "code",
   "execution_count": null,
   "metadata": {},
   "outputs": [],
   "source": [
    "\"\"\"Since our dataset contained mortality rates over time, we can ask: how did mortality rates change from the year 1980 to 2014?\"\"\"\n",
    "\"\"\"Plot %change in mortality from 1980-2014 in USA for all diseases\"\"\"\n",
    "dus.sort_values(by=['% Change in Mortality Rate, 1980-2014']).plot(x='Category', \n",
    "                                                                   y='% Change in Mortality Rate, 1980-2014', \n",
    "                                                                   kind='barh', \n",
    "                                                                   title=\"% change in mortality from 1980 to 2014\", \n",
    "                                                                   legend=False,\n",
    "                                                                  figsize=(10,4))\n",
    "plt.tight_layout()\n",
    "plt.savefig(\"rateOfChange.png\")\n",
    "plt.show()"
   ]
  },
  {
   "cell_type": "code",
   "execution_count": null,
   "metadata": {},
   "outputs": [],
   "source": [
    "\"\"\"Having done analyses at the country level, move into the county level. Make new dataframe to conatin only county information.\n",
    "Also subset to only contain information about Cardiovascular diseases.\"\"\"\n",
    "dstate = d1[d1['FIPS'] < 100]\n",
    "dcounty = d1[d1['FIPS'] > 100]\n",
    "dstate.loc[:,'FIPS'] = dstate['FIPS'].astype(int)\n",
    "dcounty.loc[:,'FIPS'] = dcounty['FIPS'].astype(int)\n",
    "dcounty = dcounty[dcounty['Category'] == \"Cardiovascular diseases\"]"
   ]
  },
  {
   "cell_type": "code",
   "execution_count": null,
   "metadata": {},
   "outputs": [],
   "source": [
    "\"\"\"Since our dataset already has FIPS values for all counties, they can be plotted on the USA map.\n",
    "Use plotly.figure_factory function create_choropleth to plot USA heatmap\n",
    "Color by Cardiovascular mortality rate in 2014\"\"\"\n",
    "\n",
    "cols = ['rgb(255,255,255)',\n",
    " 'rgb(49,54,149)',\n",
    " 'rgb(69,117,180)',\n",
    " 'rgb(116,173,209)',\n",
    " 'rgb(244,109,67)',\n",
    " 'rgb(215,48,39)',\n",
    " 'rgb(165,0,38)',\n",
    " 'rgb(0,0,0)']\n",
    "\n",
    "m2014 = ff.create_choropleth(fips=dcounty['FIPS'].tolist(), \n",
    "                             values=dcounty['Mortality Rate, 2014*'].tolist(), \n",
    "                             title=\"Cardiovascular Disease Mortality Rates in 2014\",\n",
    "                             binning_endpoints=[0, 100, 200, 300, 400, 500, 600],\n",
    "                             colorscale=cols,\n",
    "                             legend_title=\"Deaths per 100,000 people\")\n",
    "\n",
    "offline.plot(m2014, filename=\"fig.CVD_2014.html\")"
   ]
  },
  {
   "cell_type": "code",
   "execution_count": null,
   "metadata": {},
   "outputs": [],
   "source": [
    "\"\"\"Zoom into Michigan!\"\"\"\n",
    "\n",
    "dmi = dcounty[dcounty['Location'].str.contains(\"Michigan\")]\n",
    "m2014_MI = ff.create_choropleth(fips=dmi['FIPS'].tolist(),\n",
    "                              values=dmi['Mortality Rate, 2014*'].tolist(), \n",
    "                              title=\"Cardiovascular Disease Mortality Rates 2014\", \n",
    "                              scope=['MI','IL','IN','OH','WI'], \n",
    "                              legend_title=\"Deaths per 100,000 people\", \n",
    "                              binning_endpoints=[150, 200, 250, 300, 350, 400], \n",
    "                              colorscale=cols)\n",
    "\n",
    "offline.plot(m2014_MI, filename=\"michigan2014_1.html\")"
   ]
  },
  {
   "cell_type": "code",
   "execution_count": null,
   "metadata": {},
   "outputs": [],
   "source": [
    "\"\"\"Found another dataset showing education information by USA counties. \n",
    "Hypothesis: Cardiovascular mortality rates negatively correlate with higher education\n",
    "Read education data and select relevant columns, display header\"\"\"\n",
    "\n",
    "edu = pandas.read_excel(\"Education.xls\", header=4, usecols=['FIPS Code', 'State', 'Area name','Percent of adults with less than a high school diploma, 2012-2016',\n",
    "       'Percent of adults with a high school diploma only, 2012-2016',\n",
    "       \"Percent of adults completing some college or associate's degree, 2012-2016\",\n",
    "       \"Percent of adults with a bachelor's degree or higher, 2012-2016\"])\n",
    "edu.head()"
   ]
  },
  {
   "cell_type": "code",
   "execution_count": null,
   "metadata": {},
   "outputs": [],
   "source": [
    "\"\"\"Merge the mortality dataset with the education dataset\"\"\"\n",
    "dm = pandas.merge(dcounty, edu, how=\"inner\", left_on=\"FIPS\", right_on=\"FIPS Code\")\n",
    "dm.head()"
   ]
  },
  {
   "cell_type": "code",
   "execution_count": null,
   "metadata": {},
   "outputs": [],
   "source": [
    "\"\"\"Check if county names don't match after merging by FIPS\"\"\"\n",
    "dm[['county','state']]=dm['Location'].str.split(',',expand=True)\n",
    "dm[dm['county'] != dm['Area name']]"
   ]
  },
  {
   "cell_type": "code",
   "execution_count": null,
   "metadata": {},
   "outputs": [],
   "source": [
    "sns.jointplot(data=dm, x='Mortality Rate, 2014*', y=\"Percent of adults with a bachelor's degree or higher, 2012-2016\", kind=\"reg\")"
   ]
  },
  {
   "cell_type": "code",
   "execution_count": null,
   "metadata": {},
   "outputs": [],
   "source": [
    "sns.jointplot(data=dm, x='Mortality Rate, 2014*', y='Percent of adults with less than a high school diploma, 2012-2016', kind=\"reg\")"
   ]
  },
  {
   "cell_type": "code",
   "execution_count": null,
   "metadata": {},
   "outputs": [],
   "source": [
    "dstate = dstate[dstate['Category'] == \"Cardiovascular diseases\"]\n",
    "dstate.loc[:,'FIPS'] = dstate['FIPS'].astype(int) * 1000\n",
    "ds = pandas.merge(dstate, edu, how=\"inner\", left_on=\"FIPS\", right_on=\"FIPS Code\")"
   ]
  },
  {
   "cell_type": "code",
   "execution_count": null,
   "metadata": {},
   "outputs": [],
   "source": [
    "sns.jointplot(data=ds, x='Mortality Rate, 2014*', y='Percent of adults with less than a high school diploma, 2012-2016', kind=\"reg\")"
   ]
  },
  {
   "cell_type": "code",
   "execution_count": null,
   "metadata": {},
   "outputs": [],
   "source": []
  },
  {
   "cell_type": "code",
   "execution_count": null,
   "metadata": {},
   "outputs": [],
   "source": [
    "sns.jointplot(data=ds, x='Mortality Rate, 2014*', y=\"Percent of adults with a bachelor's degree or higher, 2012-2016\", kind=\"reg\")"
   ]
  },
  {
   "cell_type": "code",
   "execution_count": null,
   "metadata": {},
   "outputs": [],
   "source": [
    "sns.jointplot(data=dm, x='Mortality Rate, 2014*', y='Percent of adults with less than a high school diploma, 2012-2016', kind=\"hex\")"
   ]
  },
  {
   "cell_type": "code",
   "execution_count": null,
   "metadata": {},
   "outputs": [],
   "source": [
    "medu = ff.create_choropleth(fips=dm['FIPS'].tolist(), \n",
    "                             values=dm['Percent of adults with less than a high school diploma, 2012-2016'].tolist(), \n",
    "                             title=\"Percent of adults with less than a high school diploma, 2012-2016\",\n",
    "                             binning_endpoints=[0,10,20,30,40,50],\n",
    "                           colorscale=cols)\n",
    "\n",
    "offline.plot(medu, filename=\"fig.percentAdults_lessThanHighSchool.html\")"
   ]
  },
  {
   "cell_type": "code",
   "execution_count": null,
   "metadata": {},
   "outputs": [],
   "source": []
  },
  {
   "cell_type": "code",
   "execution_count": null,
   "metadata": {},
   "outputs": [],
   "source": []
  },
  {
   "cell_type": "code",
   "execution_count": null,
   "metadata": {},
   "outputs": [],
   "source": []
  },
  {
   "cell_type": "code",
   "execution_count": null,
   "metadata": {},
   "outputs": [],
   "source": []
  },
  {
   "cell_type": "code",
   "execution_count": null,
   "metadata": {},
   "outputs": [],
   "source": []
  },
  {
   "cell_type": "code",
   "execution_count": null,
   "metadata": {},
   "outputs": [],
   "source": []
  },
  {
   "cell_type": "code",
   "execution_count": null,
   "metadata": {},
   "outputs": [],
   "source": []
  },
  {
   "cell_type": "code",
   "execution_count": null,
   "metadata": {},
   "outputs": [],
   "source": []
  },
  {
   "cell_type": "code",
   "execution_count": null,
   "metadata": {},
   "outputs": [],
   "source": []
  },
  {
   "cell_type": "code",
   "execution_count": null,
   "metadata": {},
   "outputs": [],
   "source": []
  },
  {
   "cell_type": "code",
   "execution_count": null,
   "metadata": {},
   "outputs": [],
   "source": []
  },
  {
   "cell_type": "code",
   "execution_count": null,
   "metadata": {},
   "outputs": [],
   "source": []
  },
  {
   "cell_type": "code",
   "execution_count": null,
   "metadata": {},
   "outputs": [],
   "source": []
  },
  {
   "cell_type": "code",
   "execution_count": null,
   "metadata": {},
   "outputs": [],
   "source": []
  },
  {
   "cell_type": "code",
   "execution_count": null,
   "metadata": {},
   "outputs": [],
   "source": []
  },
  {
   "cell_type": "code",
   "execution_count": null,
   "metadata": {},
   "outputs": [],
   "source": []
  },
  {
   "cell_type": "code",
   "execution_count": null,
   "metadata": {},
   "outputs": [],
   "source": []
  },
  {
   "cell_type": "code",
   "execution_count": null,
   "metadata": {},
   "outputs": [],
   "source": []
  },
  {
   "cell_type": "code",
   "execution_count": null,
   "metadata": {},
   "outputs": [],
   "source": []
  },
  {
   "cell_type": "code",
   "execution_count": null,
   "metadata": {},
   "outputs": [],
   "source": []
  },
  {
   "cell_type": "code",
   "execution_count": null,
   "metadata": {},
   "outputs": [],
   "source": []
  },
  {
   "cell_type": "code",
   "execution_count": null,
   "metadata": {},
   "outputs": [],
   "source": []
  },
  {
   "cell_type": "code",
   "execution_count": null,
   "metadata": {},
   "outputs": [],
   "source": []
  },
  {
   "cell_type": "code",
   "execution_count": null,
   "metadata": {},
   "outputs": [],
   "source": []
  },
  {
   "cell_type": "code",
   "execution_count": null,
   "metadata": {},
   "outputs": [],
   "source": []
  },
  {
   "cell_type": "code",
   "execution_count": null,
   "metadata": {},
   "outputs": [],
   "source": []
  },
  {
   "cell_type": "code",
   "execution_count": null,
   "metadata": {},
   "outputs": [],
   "source": []
  },
  {
   "cell_type": "code",
   "execution_count": null,
   "metadata": {},
   "outputs": [],
   "source": []
  },
  {
   "cell_type": "code",
   "execution_count": null,
   "metadata": {},
   "outputs": [],
   "source": []
  },
  {
   "cell_type": "code",
   "execution_count": null,
   "metadata": {},
   "outputs": [],
   "source": []
  }
 ],
 "metadata": {
  "kernelspec": {
   "display_name": "Python 3",
   "language": "python",
   "name": "python3"
  },
  "language_info": {
   "codemirror_mode": {
    "name": "ipython",
    "version": 3
   },
   "file_extension": ".py",
   "mimetype": "text/x-python",
   "name": "python",
   "nbconvert_exporter": "python",
   "pygments_lexer": "ipython3",
   "version": "3.6.3"
  }
 },
 "nbformat": 4,
 "nbformat_minor": 2
}
